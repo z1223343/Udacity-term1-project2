{
 "cells": [
  {
   "cell_type": "markdown",
   "metadata": {},
   "source": [
    "# Traffic sign recongtion project"
   ]
  },
  {
   "cell_type": "markdown",
   "metadata": {},
   "source": [
    "#### By Yaozhong Zhang  July 12, 2018"
   ]
  },
  {
   "cell_type": "markdown",
   "metadata": {},
   "source": [
    "## Load data and visualize data"
   ]
  },
  {
   "cell_type": "code",
   "execution_count": 1,
   "metadata": {},
   "outputs": [],
   "source": [
    "import pickle\n",
    "\n",
    "training_file = \"train.p\"\n",
    "validation_file = \"valid.p\"\n",
    "testing_file = \"test.p\"\n",
    "\n",
    "with open(training_file,mode='rb') as f:\n",
    "    train = pickle.load(f)\n",
    "with open(validation_file,mode='rb') as f:\n",
    "    valid = pickle.load(f)\n",
    "with open(testing_file,mode='rb') as f:\n",
    "    test = pickle.load(f)\n",
    "    \n",
    "X_train, y_train = train['features'], train['labels']\n",
    "X_valid, y_valid = valid['features'], valid['labels']\n",
    "X_test, y_test = test['features'],test['labels']"
   ]
  },
  {
   "cell_type": "code",
   "execution_count": 2,
   "metadata": {},
   "outputs": [
    {
     "name": "stdout",
     "output_type": "stream",
     "text": [
      "Number of training examples = 34799\n",
      "Number of validation examples = 4410\n",
      "Number of testing examples = 12630\n",
      "Image data shape = (32, 32, 3)\n",
      "Number of classes = 43\n"
     ]
    }
   ],
   "source": [
    "# Provide a basic summary of the data set\n",
    "\n",
    "n_train = len(X_train)\n",
    "n_validation = len(X_valid)\n",
    "n_test = len(X_test)\n",
    "\n",
    "image_shape = X_train[0].shape\n",
    "n_classes = len(set(y_train))\n",
    "\n",
    "print(\"Number of training examples =\", n_train)\n",
    "print(\"Number of validation examples =\", n_validation)\n",
    "print(\"Number of testing examples =\", n_test)\n",
    "print(\"Image data shape =\", image_shape)\n",
    "print(\"Number of classes =\", n_classes)"
   ]
  },
  {
   "cell_type": "code",
   "execution_count": 3,
   "metadata": {},
   "outputs": [
    {
     "name": "stdout",
     "output_type": "stream",
     "text": [
      "5\n"
     ]
    },
    {
     "name": "stderr",
     "output_type": "stream",
     "text": [
      "c:\\users\\zhang\\anaconda3\\envs\\tensorflow\\lib\\site-packages\\matplotlib\\axes\\_axes.py:6462: UserWarning: The 'normed' kwarg is deprecated, and has been replaced by the 'density' kwarg.\n",
      "  warnings.warn(\"The 'normed' kwarg is deprecated, and has been \"\n"
     ]
    },
    {
     "data": {
      "image/png": "[encoded data removed]",
      "text/plain": [
       "<Figure size 72x72 with 1 Axes>"
      ]
     },
     "metadata": {},
     "output_type": "display_data"
    },
    {
     "data": {
      "image/png": "[encoded data removed]",
      "text/plain": [
       "<Figure size 432x288 with 3 Axes>"
      ]
     },
     "metadata": {},
     "output_type": "display_data"
    }
   ],
   "source": [
    "# visualize data\n",
    "\n",
    "import random\n",
    "import numpy as np\n",
    "import matplotlib.pyplot as plt\n",
    "%matplotlib inline\n",
    "\n",
    "index = random.randint(0, len(X_train))\n",
    "image = X_train[index].squeeze()\n",
    "\n",
    "plt.figure(figsize=(1,1))\n",
    "plt.imshow(image, cmap=\"gray\")\n",
    "print(y_train[index])\n",
    "\n",
    "f, (ax1, ax2, ax3) = plt.subplots(3, sharex=True, sharey=True)\n",
    "ax1.hist(y_train, normed=1,label=['Training Data'])\n",
    "ax1.legend(loc='upper center')\n",
    "ax2.hist(y_valid, normed=1,label=['Validation Data'])\n",
    "ax2.legend(loc='upper center')\n",
    "ax3.hist(y_test, normed=1,label=['Testing Data'])\n",
    "ax3.legend(loc='upper center')\n",
    "plt.show()"
   ]
  },
  {
   "cell_type": "markdown",
   "metadata": {},
   "source": [
    "## Pre-process and model architecture"
   ]
  },
  {
   "cell_type": "code",
   "execution_count": 4,
   "metadata": {},
   "outputs": [],
   "source": [
    "# normalization!!!!!!!!!\n",
    "\n",
    "X_train = (np.float32(X_train)-128)/128\n",
    "X_valid = (np.float32(X_valid)-128)/128\n",
    "X_test = (np.float32(X_test)-128)/128\n",
    "\n",
    "#print(X_train[0])"
   ]
  },
  {
   "cell_type": "code",
   "execution_count": 5,
   "metadata": {},
   "outputs": [],
   "source": [
    "# shuffle the training data\n",
    "\n",
    "from sklearn.utils import shuffle\n",
    "\n",
    "X_train, y_train = shuffle(X_train, y_train)"
   ]
  },
  {
   "cell_type": "code",
   "execution_count": 6,
   "metadata": {},
   "outputs": [],
   "source": [
    "# set up TensorFlow\n",
    "import tensorflow as tf\n",
    "\n",
    "EPOCHS = 30\n",
    "BATCH_SIZE = 128"
   ]
  },
  {
   "cell_type": "code",
   "execution_count": 7,
   "metadata": {},
   "outputs": [],
   "source": [
    "# Implement LeNet-5\n",
    "\n",
    "\"\"\"\n",
    "Architecture\n",
    "Layer 1: Convolutional. The output shape should be 28x28x6.\n",
    "\n",
    "Activation. Your choice of activation function.\n",
    "\n",
    "Pooling. The output shape should be 14x14x6.\n",
    "\n",
    "Layer 2: Convolutional. The output shape should be 10x10x16.\n",
    "\n",
    "Activation. Your choice of activation function.\n",
    "\n",
    "Pooling. The output shape should be 5x5x16.\n",
    "\n",
    "Flatten. Flatten the output shape of the final pooling layer such that it's 1D instead of 3D. The easiest way to do is by using tf.contrib.layers.flatten, which is already imported for you.\n",
    "\n",
    "Layer 3: Fully Connected. This should have 120 outputs.\n",
    "\n",
    "Activation. Your choice of activation function.\n",
    "\n",
    "Layer 4: Fully Connected. This should have 84 outputs.\n",
    "\n",
    "Activation. Your choice of activation function.\n",
    "\n",
    "Layer 5: Fully Connected (Logits). This should have 10 outputs.\n",
    "\"\"\"\n",
    "\n",
    "from tensorflow.contrib.layers import flatten\n",
    "\n",
    "def LeNet(x,keep_prob):\n",
    "\n",
    "    mu = 0\n",
    "    sigma = 0.11\n",
    "    #Layer 1 convolutional Input 32x32x3\n",
    "    conv1_W = tf.Variable(tf.truncated_normal(shape=(5,5,3,6),mean= mu, stddev = sigma))\n",
    "    conv1_b = tf.Variable(tf.zeros(6))\n",
    "    conv1 = tf.nn.conv2d(x,conv1_W,strides = [1,1,1,1],padding = 'VALID')\n",
    "    conv1 = tf.nn.bias_add(conv1,conv1_b)\n",
    "    \n",
    "    conv1 = tf.nn.relu(conv1)\n",
    "    \n",
    "    #Pooling Input 28x28x6\n",
    "    conv1 = tf.nn.max_pool(conv1,ksize = [1,2,2,1],strides=[1,2,2,1],padding = 'SAME')\n",
    "    \n",
    "    #Layer 2 convolutional Input 14x14x6\n",
    "    conv2_W = tf.Variable(tf.truncated_normal(shape=(5, 5, 6, 16), mean = mu, stddev = sigma))\n",
    "    conv2_b = tf.Variable(tf.zeros(16))\n",
    "    conv2 = tf.nn.conv2d(conv1,conv2_W,strides = [1,1,1,1],padding = 'VALID')\n",
    "    conv2 = tf.nn.bias_add(conv2,conv2_b)\n",
    "    \n",
    "    conv2 = tf.nn.relu(conv2)\n",
    "    \n",
    "    #Pooling Input 10x10x16\n",
    "    conv2 = tf.nn.max_pool(conv2,ksize=[1,2,2,1],strides=[1,2,2,1],padding = 'SAME')\n",
    "    \n",
    "    #Flatten Input 5x5x16\n",
    "    flat = flatten(conv2)\n",
    "    \n",
    "    #Layer 3 Fully connectted Input 400\n",
    "    fc1_W = tf.Variable(tf.truncated_normal(shape=(400, 120), mean = mu, stddev = sigma))\n",
    "    fc1_b = tf.Variable(tf.zeros(120))\n",
    "    fc1 = tf.matmul(flat,fc1_W) + fc1_b\n",
    "    \n",
    "    fc1 = tf.nn.relu(fc1)\n",
    "    fc1 = tf.nn.dropout(fc1,keep_prob)\n",
    "    \n",
    "    #Layer 4 Fully connectted Input 120\n",
    "    fc2_W = tf.Variable(tf.truncated_normal(shape=(120, 84), mean = mu, stddev = sigma))\n",
    "    fc2_b = tf.Variable(tf.zeros(84))\n",
    "    fc2 = tf.matmul(fc1,fc2_W) + fc2_b\n",
    "    \n",
    "    fc2 = tf.nn.relu(fc2)\n",
    "    fc2 = tf.nn.dropout(fc2,keep_prob)\n",
    "    \n",
    "    #Layer 5 Fully connectted Input 84\n",
    "    fc3_W = tf.Variable(tf.truncated_normal(shape=(84, 43), mean = mu, stddev = sigma))\n",
    "    fc3_b = tf.Variable(tf.zeros(43))\n",
    "    fc3 = tf.matmul(fc2,fc3_W) + fc3_b\n",
    "    \n",
    "    logits = fc3\n",
    "    \n",
    "    return logits\n",
    "    \n",
    "    "
   ]
  },
  {
   "cell_type": "code",
   "execution_count": 8,
   "metadata": {},
   "outputs": [],
   "source": [
    "# set features and labels\n",
    "\n",
    "x = tf.placeholder(tf.float32,(None,32,32,3))\n",
    "y = tf.placeholder(tf.int32,(None))\n",
    "keep_prob = tf.placeholder(tf.float32)\n",
    "one_hot_y = tf.one_hot(y,43)"
   ]
  },
  {
   "cell_type": "code",
   "execution_count": 9,
   "metadata": {},
   "outputs": [],
   "source": [
    "# training pipeline\n",
    "\n",
    "rate = 0.0008\n",
    "\n",
    "logits = LeNet(x,keep_prob)\n",
    "cross_entropy = tf.nn.softmax_cross_entropy_with_logits_v2(labels = one_hot_y, logits=logits)\n",
    "loss_operation = tf.reduce_mean(cross_entropy)\n",
    "optimizer = tf.train.AdamOptimizer(learning_rate = rate)\n",
    "training_operation = optimizer.minimize(loss_operation)"
   ]
  },
  {
   "cell_type": "code",
   "execution_count": 10,
   "metadata": {},
   "outputs": [],
   "source": [
    "# Model Evaluation\n",
    "\n",
    "correct_prediction = tf.equal(tf.argmax(logits, 1), tf.argmax(one_hot_y, 1))\n",
    "accuracy_operation = tf.reduce_mean(tf.cast(correct_prediction, tf.float32))\n",
    "saver = tf.train.Saver()\n",
    "\n",
    "def evaluate(X_data, y_data):\n",
    "    num_examples = len(X_data)\n",
    "    total_accuracy = 0\n",
    "    sess = tf.get_default_session()\n",
    "    for offset in range(0, num_examples, BATCH_SIZE):\n",
    "        batch_x, batch_y = X_data[offset:offset+BATCH_SIZE], y_data[offset:offset+BATCH_SIZE]\n",
    "        accuracy = sess.run(accuracy_operation, feed_dict={x: batch_x, y: batch_y, keep_prob:1.0})\n",
    "        total_accuracy += (accuracy * len(batch_x))\n",
    "    return total_accuracy / num_examples"
   ]
  },
  {
   "cell_type": "code",
   "execution_count": 11,
   "metadata": {},
   "outputs": [
    {
     "name": "stdout",
     "output_type": "stream",
     "text": [
      "Training...\n",
      "\n",
      "EPOCH 1 ...\n",
      "Training Accuracy = 0.566\n",
      "Validation Accuracy = 0.503\n",
      "\n",
      "EPOCH 2 ...\n",
      "Training Accuracy = 0.804\n",
      "Validation Accuracy = 0.721\n",
      "\n",
      "EPOCH 3 ...\n",
      "Training Accuracy = 0.886\n",
      "Validation Accuracy = 0.820\n",
      "\n",
      "EPOCH 4 ...\n",
      "Training Accuracy = 0.926\n",
      "Validation Accuracy = 0.876\n",
      "\n",
      "EPOCH 5 ...\n",
      "Training Accuracy = 0.945\n",
      "Validation Accuracy = 0.900\n",
      "\n",
      "EPOCH 6 ...\n",
      "Training Accuracy = 0.957\n",
      "Validation Accuracy = 0.916\n",
      "\n",
      "EPOCH 7 ...\n",
      "Training Accuracy = 0.964\n",
      "Validation Accuracy = 0.914\n",
      "\n",
      "EPOCH 8 ...\n",
      "Training Accuracy = 0.969\n",
      "Validation Accuracy = 0.922\n",
      "\n",
      "EPOCH 9 ...\n",
      "Training Accuracy = 0.976\n",
      "Validation Accuracy = 0.936\n",
      "\n",
      "EPOCH 10 ...\n",
      "Training Accuracy = 0.979\n",
      "Validation Accuracy = 0.939\n",
      "\n",
      "EPOCH 11 ...\n",
      "Training Accuracy = 0.979\n",
      "Validation Accuracy = 0.926\n",
      "\n",
      "EPOCH 12 ...\n",
      "Training Accuracy = 0.981\n",
      "Validation Accuracy = 0.932\n",
      "\n",
      "EPOCH 13 ...\n",
      "Training Accuracy = 0.986\n",
      "Validation Accuracy = 0.939\n",
      "\n",
      "EPOCH 14 ...\n",
      "Training Accuracy = 0.989\n",
      "Validation Accuracy = 0.946\n",
      "\n",
      "EPOCH 15 ...\n",
      "Training Accuracy = 0.991\n",
      "Validation Accuracy = 0.950\n",
      "\n",
      "EPOCH 16 ...\n",
      "Training Accuracy = 0.991\n",
      "Validation Accuracy = 0.951\n",
      "\n",
      "EPOCH 17 ...\n",
      "Training Accuracy = 0.990\n",
      "Validation Accuracy = 0.947\n",
      "\n",
      "EPOCH 18 ...\n",
      "Training Accuracy = 0.991\n",
      "Validation Accuracy = 0.950\n",
      "\n",
      "EPOCH 19 ...\n",
      "Training Accuracy = 0.991\n",
      "Validation Accuracy = 0.948\n",
      "\n",
      "EPOCH 20 ...\n",
      "Training Accuracy = 0.992\n",
      "Validation Accuracy = 0.955\n",
      "\n",
      "EPOCH 21 ...\n",
      "Training Accuracy = 0.993\n",
      "Validation Accuracy = 0.951\n",
      "\n",
      "EPOCH 22 ...\n",
      "Training Accuracy = 0.993\n",
      "Validation Accuracy = 0.953\n",
      "\n",
      "EPOCH 23 ...\n",
      "Training Accuracy = 0.994\n",
      "Validation Accuracy = 0.957\n",
      "\n",
      "EPOCH 24 ...\n",
      "Training Accuracy = 0.995\n",
      "Validation Accuracy = 0.949\n",
      "\n",
      "EPOCH 25 ...\n",
      "Training Accuracy = 0.995\n",
      "Validation Accuracy = 0.956\n",
      "\n",
      "EPOCH 26 ...\n",
      "Training Accuracy = 0.996\n",
      "Validation Accuracy = 0.961\n",
      "\n",
      "EPOCH 27 ...\n",
      "Training Accuracy = 0.996\n",
      "Validation Accuracy = 0.958\n",
      "\n",
      "EPOCH 28 ...\n",
      "Training Accuracy = 0.996\n",
      "Validation Accuracy = 0.959\n",
      "\n",
      "EPOCH 29 ...\n",
      "Training Accuracy = 0.997\n",
      "Validation Accuracy = 0.959\n",
      "\n",
      "EPOCH 30 ...\n",
      "Training Accuracy = 0.996\n",
      "Validation Accuracy = 0.957\n",
      "\n"
     ]
    },
    {
     "data": {
      "image/png": "[encoded data removed]",
      "text/plain": [
       "<Figure size 432x288 with 1 Axes>"
      ]
     },
     "metadata": {},
     "output_type": "display_data"
    },
    {
     "name": "stdout",
     "output_type": "stream",
     "text": [
      "Model saved\n"
     ]
    }
   ],
   "source": [
    "# Train the model\n",
    "\n",
    "with tf.Session() as sess:\n",
    "    sess.run(tf.global_variables_initializer())\n",
    "    num_examples = len(X_train)\n",
    "    \n",
    "    print(\"Training...\")\n",
    "    print()\n",
    "    \n",
    "    train_results = []\n",
    "    valid_results = []\n",
    "    \n",
    "    for i in range(EPOCHS):\n",
    "        X_train, y_train = shuffle(X_train, y_train)\n",
    "        for offset in range(0, num_examples, BATCH_SIZE):\n",
    "            end = offset + BATCH_SIZE\n",
    "            batch_x, batch_y = X_train[offset:end], y_train[offset:end]\n",
    "            sess.run(training_operation, feed_dict={x: batch_x, y: batch_y, keep_prob:0.5})\n",
    "        \n",
    "        training_accuracy = evaluate(X_train, y_train)\n",
    "        validation_accuracy = evaluate(X_valid, y_valid)\n",
    "        train_results.append(training_accuracy)\n",
    "        valid_results.append(validation_accuracy)\n",
    "        print(\"EPOCH {} ...\".format(i+1))\n",
    "        print(\"Training Accuracy = {:.3f}\".format(training_accuracy))\n",
    "        print(\"Validation Accuracy = {:.3f}\".format(validation_accuracy))\n",
    "        print()\n",
    "    \n",
    "    plt.plot(np.arange(0,EPOCHS), train_results, '-b', label='Training Results')\n",
    "    plt.plot(np.arange(0,EPOCHS), valid_results, '-r', label='Validation Results')\n",
    "    plt.legend(loc='upper left')\n",
    "    plt.show()\n",
    "    \n",
    "    saver.save(sess, './lenet')\n",
    "    print(\"Model saved\")"
   ]
  },
  {
   "cell_type": "code",
   "execution_count": 12,
   "metadata": {},
   "outputs": [
    {
     "name": "stdout",
     "output_type": "stream",
     "text": [
      "INFO:tensorflow:Restoring parameters from .\\lenet\n",
      "Test Accuracy = 0.938\n"
     ]
    }
   ],
   "source": [
    "with tf.Session() as sess:\n",
    "    saver.restore(sess, tf.train.latest_checkpoint('.'))\n",
    "\n",
    "    test_accuracy = evaluate(X_test, y_test)\n",
    "    print(\"Test Accuracy = {:.3f}\".format(test_accuracy))"
   ]
  },
  {
   "cell_type": "markdown",
   "metadata": {},
   "source": [
    "## Test model on new images"
   ]
  },
  {
   "cell_type": "code",
   "execution_count": 13,
   "metadata": {},
   "outputs": [
    {
     "name": "stdout",
     "output_type": "stream",
     "text": [
      "This image is: <class 'numpy.ndarray'> with dimensions: (32, 32, 3)\n",
      "This image is: <class 'numpy.ndarray'> with dimensions: (32, 32, 3)\n",
      "This image is: <class 'numpy.ndarray'> with dimensions: (32, 32, 3)\n",
      "This image is: <class 'numpy.ndarray'> with dimensions: (32, 32, 3)\n",
      "This image is: <class 'numpy.ndarray'> with dimensions: (32, 32, 3)\n"
     ]
    },
    {
     "data": {
      "image/png": "[encoded data removed]",
      "text/plain": [
       "<Figure size 432x288 with 5 Axes>"
      ]
     },
     "metadata": {},
     "output_type": "display_data"
    }
   ],
   "source": [
    "# load and output the images and pre-process\n",
    "import matplotlib.image as mpimg\n",
    "\n",
    "def read_and_print_image(image_path):\n",
    "    #reading in an image\n",
    "    image = mpimg.imread(image_path)\n",
    "    #printing out some stats and plotting\n",
    "    print('This image is:', type(image), 'with dimensions:', image.shape)\n",
    "    #plt.imshow(image)  #call as plt.imshow(gray, cmap='gray') to show a grayscaled image\n",
    "    return image\n",
    "\n",
    "X_new_1 = read_and_print_image('image_1.jpg')\n",
    "X_new_2 = read_and_print_image('image_2.jpg')\n",
    "X_new_3 = read_and_print_image('image_3.jpg')\n",
    "X_new_4 = read_and_print_image('image_4.jpg')\n",
    "X_new_5 = read_and_print_image('image_5.jpg')\n",
    "X_new = (X_new_1, X_new_2, X_new_3, X_new_4, X_new_5)\n",
    "fig = plt.figure()\n",
    "i=0\n",
    "X_new_processed = []\n",
    "for X in X_new:\n",
    "    i+=1\n",
    "    fig.add_subplot(1,len(X_new),i)\n",
    "    plt.imshow(X)\n",
    "    X = (np.float32(X)-128)/128\n",
    "    X = X.reshape(1, 32, 32,3)\n",
    "    X_new_processed.append(X)\n",
    "    \n",
    "# Image 1: label 0\n",
    "# Image 2: label 4\n",
    "# Image 3: label 14\n",
    "# Image 4: label 17\n",
    "# Image 5: label 40\n",
    "\n",
    "y_new = [0,4,14,17,40]"
   ]
  },
  {
   "cell_type": "code",
   "execution_count": 14,
   "metadata": {},
   "outputs": [
    {
     "name": "stdout",
     "output_type": "stream",
     "text": [
      "INFO:tensorflow:Restoring parameters from .\\lenet\n",
      "Image 1:\n",
      "Predicted Type: 1, True Type: 0\n",
      "Image 2:\n",
      "Predicted Type: 4, True Type: 4\n",
      "Image 3:\n",
      "Predicted Type: 14, True Type: 14\n",
      "Image 4:\n",
      "Predicted Type: 17, True Type: 17\n",
      "Image 5:\n",
      "Predicted Type: 40, True Type: 40\n",
      "Correctly Predicted 4 out of 5. Accuracy is 80.0%\n",
      "\n",
      "Image 1:\n",
      "Top Five Probabilities: [[0.6178689  0.32289666 0.05277985 0.0050058  0.00141631]]\n",
      "Top Five Possible Types: [[ 1  0  4 18 39]]\n",
      "\n",
      "Image 2:\n",
      "Top Five Probabilities: [[8.9256179e-01 1.0743698e-01 1.2848267e-06 2.3580979e-09 1.4768685e-12]]\n",
      "Top Five Possible Types: [[ 4  0 18  1 39]]\n",
      "\n",
      "Image 3:\n",
      "Top Five Probabilities: [[1.0000000e+00 1.5107658e-15 4.6624015e-17 1.8667888e-19 3.7153261e-21]]\n",
      "Top Five Possible Types: [[14 17 29  1 15]]\n",
      "\n",
      "Image 4:\n",
      "Top Five Probabilities: [[1.0000000e+00 1.2215898e-08 1.1077808e-17 2.7729033e-20 8.1240890e-22]]\n",
      "Top Five Possible Types: [[17 14 26 22 13]]\n",
      "\n",
      "Image 5:\n",
      "Top Five Probabilities: [[9.9999940e-01 6.5455646e-07 6.7313199e-09 4.0304946e-09 2.9264391e-09]]\n",
      "Top Five Possible Types: [[40 41 37 33 32]]\n"
     ]
    }
   ],
   "source": [
    "# predict the sign type for each iamge\n",
    "num = 5\n",
    "\n",
    "predict_type = tf.argmax(logits, 1)\n",
    "top_five_types = tf.nn.top_k(tf.nn.softmax(logits), k=num)\n",
    "results_predict_type = []\n",
    "results_top_five_types = []\n",
    "\n",
    "with tf.Session() as sess:\n",
    "    saver.restore(sess, tf.train.latest_checkpoint('.'))\n",
    "    sess = tf.get_default_session()\n",
    "    i=0\n",
    "    for X in X_new_processed:\n",
    "        i+=1\n",
    "        new = sess.run(predict_type, feed_dict={x: X, keep_prob: 1.0})\n",
    "        results_predict_type.append(new)\n",
    "        new = sess.run(top_five_types, feed_dict={x: X, keep_prob: 1.0})\n",
    "        results_top_five_types.append(new)\n",
    "        \n",
    "# Analyze performance\n",
    "count = 0\n",
    "for i in range(len( results_predict_type)):\n",
    "    print('Image {}:'.format(i+1))\n",
    "    print('Predicted Type: {}, True Type: {}'.format( results_predict_type[i][0],y_new[i]))\n",
    "    if  results_predict_type[i][0]==y_new[i]:\n",
    "        count += 1\n",
    "        \n",
    "print('Correctly Predicted {} out of {}. Accuracy is {}%'.format(count, len( results_predict_type),\\\n",
    "                                                                 float(count)/len( results_predict_type)*100))\n",
    "\n",
    "# Top 5 Softmax Probabilities For Each Image Found on the Web\n",
    "\n",
    "for i in range(num):\n",
    "    print('\\nImage {}:'.format(i+1))\n",
    "    print('Top Five Probabilities: {}'.format( results_top_five_types[i][0]))\n",
    "    print('Top Five Possible Types: {}'.format( results_top_five_types[i][1]))"
   ]
  },
  {
   "cell_type": "code",
   "execution_count": 15,
   "metadata": {},
   "outputs": [],
   "source": [
    "# Visualise the network's feature maps\n",
    "\n",
    "# image_input: the test image being fed into the network to produce the feature maps\n",
    "# tf_activation: should be a tf variable name used during your training procedure that represents the calculated state of a specific weight layer\n",
    "# activation_min/max: can be used to view the activation contrast in more detail, by default matplot sets min and max to the actual min and max values of the output\n",
    "# plt_num: used to plot out multiple different weight feature map sets on the same block, just extend the plt number for each new feature map entry\n",
    "\n",
    "def outputFeatureMap(image_input, tf_activation, activation_min=-1, activation_max=-1 ,plt_num=1):\n",
    "    # Here make sure to preprocess your image_input in a way your network expects\n",
    "    # with size, normalization, ect if needed\n",
    "    image_input  = (np.float32(image_input)-128)/128\n",
    "    # Note: x should be the same name as your network's tensorflow data placeholder variable\n",
    "    # If you get an error tf_activation is not defined it may be having trouble accessing the variable from inside a function\n",
    "    activation = tf_activation.eval(session=sess,feed_dict={x : image_input})\n",
    "    featuremaps = activation.shape[3]\n",
    "    plt.figure(plt_num, figsize=(15,15))\n",
    "    for featuremap in range(featuremaps):\n",
    "        plt.subplot(6,8, featuremap+1) # sets the number of feature maps to show on each row and column\n",
    "        plt.title('FeatureMap ' + str(featuremap)) # displays the feature map number\n",
    "        if activation_min != -1 & activation_max != -1:\n",
    "            plt.imshow(activation[0,:,:, featuremap], interpolation=\"nearest\", vmin =activation_min, vmax=activation_max, cmap=\"gray\")\n",
    "        elif activation_max != -1:\n",
    "            plt.imshow(activation[0,:,:, featuremap], interpolation=\"nearest\", vmax=activation_max, cmap=\"gray\")\n",
    "        elif activation_min !=-1:\n",
    "            plt.imshow(activation[0,:,:, featuremap], interpolation=\"nearest\", vmin=activation_min, cmap=\"gray\")\n",
    "        else:\n",
    "            plt.imshow(activation[0,:,:, featuremap], interpolation=\"nearest\", cmap=\"gray\")"
   ]
  },
  {
   "cell_type": "code",
   "execution_count": null,
   "metadata": {},
   "outputs": [],
   "source": []
  }
 ],
 "metadata": {
  "kernelspec": {
   "display_name": "Python 3",
   "language": "python",
   "name": "python3"
  },
  "language_info": {
   "codemirror_mode": {
    "name": "ipython",
    "version": 3
   },
   "file_extension": ".py",
   "mimetype": "text/x-python",
   "name": "python",
   "nbconvert_exporter": "python",
   "pygments_lexer": "ipython3",
   "version": "3.5.5"
  }
 },
 "nbformat": 4,
 "nbformat_minor": 2
}
